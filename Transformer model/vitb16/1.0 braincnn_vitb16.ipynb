{
 "cells": [
  {
   "cell_type": "code",
   "execution_count": 1,
   "metadata": {},
   "outputs": [],
   "source": [
    "import matplotlib.pyplot as plt\n",
    "import torch\n",
    "import torchvision\n",
    "from torch import nn\n",
    "from torchvision import transforms\n",
    "# from helper_functions import set_seeds"
   ]
  },
  {
   "cell_type": "code",
   "execution_count": 2,
   "metadata": {},
   "outputs": [
    {
     "data": {
      "text/plain": [
       "'cpu'"
      ]
     },
     "execution_count": 2,
     "metadata": {},
     "output_type": "execute_result"
    }
   ],
   "source": [
    "device = \"cuda\" if torch.cuda.is_available() else \"cpu\"\n",
    "device"
   ]
  },
  {
   "cell_type": "code",
   "execution_count": 3,
   "metadata": {},
   "outputs": [],
   "source": [
    "# Define the class names\n",
    "class_names = ['glioma','meningioma', 'notumor', 'pituitary']\n",
    "\n",
    "# Function to setup the model\n",
    "def setup_model(weights, device, class_names):\n",
    "    # Setup a ViT model instance with pretrained weights\n",
    "    model = torchvision.models.vit_b_16(weights=weights).to(device)\n",
    "\n",
    "    # Freeze the base parameters\n",
    "    freeze_parameters(model)\n",
    "\n",
    "    # Change the classifier head\n",
    "    change_classifier_head(model, class_names, device)\n",
    "\n",
    "    return model\n",
    "\n",
    "# Function to freeze parameters\n",
    "def freeze_parameters(model):\n",
    "    for parameter in model.parameters():\n",
    "        parameter.requires_grad = False\n",
    "\n",
    "# Function to change the classifier head\n",
    "def change_classifier_head(model, class_names, device):\n",
    "    model.heads = nn.Linear(in_features=768, out_features=len(class_names)).to(device)\n",
    "\n",
    "# Function to set seeds\n",
    "def set_seeds():\n",
    "    # Add your seed setting code here\n",
    "    pass\n",
    "\n",
    "# Get pretrained weights for ViT-Base\n",
    "pretrained_vit_weights = torchvision.models.ViT_B_16_Weights.DEFAULT\n",
    "\n",
    "# Setup the model\n",
    "set_seeds()\n",
    "pretrained_vit = setup_model(pretrained_vit_weights, device, class_names)"
   ]
  },
  {
   "cell_type": "code",
   "execution_count": 4,
   "metadata": {},
   "outputs": [],
   "source": [
    "from torchinfo import summary\n",
    "\n",
    "# Function to print model summary\n",
    "def print_model_summary(model, input_size, col_names, col_width, row_settings):\n",
    "    summary(model=model,\n",
    "            input_size=input_size,\n",
    "            col_names=col_names,\n",
    "            col_width=col_width,\n",
    "            row_settings=row_settings)\n",
    "\n",
    "# Define the parameters for the summary\n",
    "input_size = (32, 3, 224, 224) # (batch_size, color_channels, height, width)\n",
    "col_names = [\"input_size\", \"output_size\", \"num_params\", \"trainable\"]\n",
    "col_width = 20\n",
    "row_settings = [\"var_names\"]\n",
    "\n",
    "# Print the summary\n",
    "print_model_summary(pretrained_vit, input_size, col_names, col_width, row_settings)"
   ]
  },
  {
   "cell_type": "code",
   "execution_count": 5,
   "metadata": {},
   "outputs": [],
   "source": [
    "# Setup directory paths to train and test images\n",
    "train_dir = \"/home/usd.local/neerajdattu.dudam/rizk_lab/shared/neerajdattu/dataset/Training\"\n",
    "test_dir = \"/home/usd.local/neerajdattu.dudam/rizk_lab/shared/neerajdattu/dataset/Testing\""
   ]
  },
  {
   "cell_type": "code",
   "execution_count": 6,
   "metadata": {},
   "outputs": [
    {
     "name": "stdout",
     "output_type": "stream",
     "text": [
      "ImageClassification(\n",
      "    crop_size=[224]\n",
      "    resize_size=[256]\n",
      "    mean=[0.485, 0.456, 0.406]\n",
      "    std=[0.229, 0.224, 0.225]\n",
      "    interpolation=InterpolationMode.BILINEAR\n",
      ")\n"
     ]
    }
   ],
   "source": [
    "# Function to get and print transforms from pretrained weights\n",
    "def get_and_print_transforms(weights):\n",
    "    transforms = weights.transforms()\n",
    "    print(transforms)\n",
    "    return transforms\n",
    "\n",
    "# Get and print the transforms\n",
    "pretrained_vit_transforms = get_and_print_transforms(pretrained_vit_weights)"
   ]
  },
  {
   "cell_type": "code",
   "execution_count": 7,
   "metadata": {},
   "outputs": [],
   "source": [
    "import os\n",
    "from torchvision import datasets, transforms\n",
    "from torch.utils.data import DataLoader\n",
    "\n",
    "# Function to create a data loader\n",
    "def create_dataloader(data, batch_size, shuffle, num_workers):\n",
    "    return DataLoader(\n",
    "        data,\n",
    "        batch_size=batch_size,\n",
    "        shuffle=shuffle,\n",
    "        num_workers=num_workers,\n",
    "        pin_memory=True,\n",
    "    )\n",
    "\n",
    "# Function to create a dataset\n",
    "def create_dataset(dir, transform):\n",
    "    return datasets.ImageFolder(dir, transform=transform)\n",
    "\n",
    "# Function to create data loaders\n",
    "def create_data_loaders(train_dir, test_dir, transform, batch_size):\n",
    "    num_workers = os.cpu_count()\n",
    "\n",
    "    # Create datasets\n",
    "    train_data = create_dataset(train_dir, transform)\n",
    "    test_data = create_dataset(test_dir, transform)\n",
    "\n",
    "    # Get class names\n",
    "    class_names = train_data.classes\n",
    "\n",
    "    # Create data loaders\n",
    "    train_dataloader = create_dataloader(train_data, batch_size, True, num_workers)\n",
    "    test_dataloader = create_dataloader(test_data, batch_size, False, num_workers)\n",
    "\n",
    "    return train_dataloader, test_dataloader, class_names"
   ]
  },
  {
   "cell_type": "code",
   "execution_count": 8,
   "metadata": {},
   "outputs": [],
   "source": [
    "# Function to setup data loaders\n",
    "def setup_data_loaders(train_dir, test_dir, transform, batch_size):\n",
    "    return create_data_loaders(train_dir, test_dir, transform, batch_size)\n",
    "\n",
    "# Define the parameters for the data loaders\n",
    "train_dir = train_dir\n",
    "test_dir = test_dir\n",
    "transform = pretrained_vit_transforms\n",
    "batch_size = 32\n",
    "\n",
    "# Setup the data loaders\n",
    "train_dataloader_pretrained, test_dataloader_pretrained, class_names = setup_data_loaders(train_dir, test_dir, transform, batch_size)"
   ]
  },
  {
   "cell_type": "code",
   "execution_count": 10,
   "metadata": {},
   "outputs": [
    {
     "name": "stderr",
     "output_type": "stream",
     "text": [
      "  3%|▎         | 1/30 [04:01<1:56:51, 241.79s/it]"
     ]
    },
    {
     "name": "stdout",
     "output_type": "stream",
     "text": [
      "Epoch: 1 | train_loss: 0.3140 | train_acc: 0.8912 | test_loss: 0.3211 | test_acc: 0.8788\n"
     ]
    },
    {
     "name": "stderr",
     "output_type": "stream",
     "text": [
      "  7%|▋         | 2/30 [08:01<1:52:17, 240.62s/it]"
     ]
    },
    {
     "name": "stdout",
     "output_type": "stream",
     "text": [
      "Epoch: 2 | train_loss: 0.2245 | train_acc: 0.9234 | test_loss: 0.2692 | test_acc: 0.8986\n"
     ]
    },
    {
     "name": "stderr",
     "output_type": "stream",
     "text": [
      " 10%|█         | 3/30 [12:03<1:48:34, 241.29s/it]"
     ]
    },
    {
     "name": "stdout",
     "output_type": "stream",
     "text": [
      "Epoch: 3 | train_loss: 0.1909 | train_acc: 0.9342 | test_loss: 0.2358 | test_acc: 0.9207\n"
     ]
    },
    {
     "name": "stderr",
     "output_type": "stream",
     "text": [
      " 13%|█▎        | 4/30 [16:03<1:44:20, 240.78s/it]"
     ]
    },
    {
     "name": "stdout",
     "output_type": "stream",
     "text": [
      "Epoch: 4 | train_loss: 0.1678 | train_acc: 0.9461 | test_loss: 0.2191 | test_acc: 0.9146\n"
     ]
    },
    {
     "name": "stderr",
     "output_type": "stream",
     "text": [
      " 17%|█▋        | 5/30 [19:58<1:39:26, 238.65s/it]"
     ]
    },
    {
     "name": "stdout",
     "output_type": "stream",
     "text": [
      "Epoch: 5 | train_loss: 0.1513 | train_acc: 0.9495 | test_loss: 0.2067 | test_acc: 0.9192\n"
     ]
    },
    {
     "name": "stderr",
     "output_type": "stream",
     "text": [
      " 20%|██        | 6/30 [23:57<1:35:29, 238.72s/it]"
     ]
    },
    {
     "name": "stdout",
     "output_type": "stream",
     "text": [
      "Epoch: 6 | train_loss: 0.1393 | train_acc: 0.9562 | test_loss: 0.1847 | test_acc: 0.9329\n"
     ]
    },
    {
     "name": "stderr",
     "output_type": "stream",
     "text": [
      " 23%|██▎       | 7/30 [27:58<1:31:50, 239.61s/it]"
     ]
    },
    {
     "name": "stdout",
     "output_type": "stream",
     "text": [
      "Epoch: 7 | train_loss: 0.1311 | train_acc: 0.9565 | test_loss: 0.1722 | test_acc: 0.9390\n"
     ]
    },
    {
     "name": "stderr",
     "output_type": "stream",
     "text": [
      " 27%|██▋       | 8/30 [31:51<1:27:01, 237.32s/it]"
     ]
    },
    {
     "name": "stdout",
     "output_type": "stream",
     "text": [
      "Epoch: 8 | train_loss: 0.1175 | train_acc: 0.9640 | test_loss: 0.1657 | test_acc: 0.9383\n"
     ]
    },
    {
     "name": "stderr",
     "output_type": "stream",
     "text": [
      " 30%|███       | 9/30 [35:48<1:23:03, 237.29s/it]"
     ]
    },
    {
     "name": "stdout",
     "output_type": "stream",
     "text": [
      "Epoch: 9 | train_loss: 0.1118 | train_acc: 0.9663 | test_loss: 0.1617 | test_acc: 0.9413\n"
     ]
    },
    {
     "name": "stderr",
     "output_type": "stream",
     "text": [
      " 33%|███▎      | 10/30 [40:13<1:21:55, 245.75s/it]"
     ]
    },
    {
     "name": "stdout",
     "output_type": "stream",
     "text": [
      "Epoch: 10 | train_loss: 0.1042 | train_acc: 0.9677 | test_loss: 0.1477 | test_acc: 0.9497\n"
     ]
    },
    {
     "name": "stderr",
     "output_type": "stream",
     "text": [
      " 37%|███▋      | 11/30 [44:23<1:18:17, 247.23s/it]"
     ]
    },
    {
     "name": "stdout",
     "output_type": "stream",
     "text": [
      "Epoch: 11 | train_loss: 0.0989 | train_acc: 0.9714 | test_loss: 0.1589 | test_acc: 0.9428\n"
     ]
    },
    {
     "name": "stderr",
     "output_type": "stream",
     "text": [
      " 40%|████      | 12/30 [48:31<1:14:12, 247.35s/it]"
     ]
    },
    {
     "name": "stdout",
     "output_type": "stream",
     "text": [
      "Epoch: 12 | train_loss: 0.0936 | train_acc: 0.9740 | test_loss: 0.1479 | test_acc: 0.9444\n"
     ]
    },
    {
     "name": "stderr",
     "output_type": "stream",
     "text": [
      " 43%|████▎     | 13/30 [52:38<1:10:05, 247.39s/it]"
     ]
    },
    {
     "name": "stdout",
     "output_type": "stream",
     "text": [
      "Epoch: 13 | train_loss: 0.0892 | train_acc: 0.9754 | test_loss: 0.1356 | test_acc: 0.9566\n"
     ]
    },
    {
     "name": "stderr",
     "output_type": "stream",
     "text": [
      " 47%|████▋     | 14/30 [56:38<1:05:19, 245.00s/it]"
     ]
    },
    {
     "name": "stdout",
     "output_type": "stream",
     "text": [
      "Epoch: 14 | train_loss: 0.0845 | train_acc: 0.9759 | test_loss: 0.1304 | test_acc: 0.9573\n"
     ]
    },
    {
     "name": "stderr",
     "output_type": "stream",
     "text": [
      " 50%|█████     | 15/30 [1:00:38<1:00:51, 243.43s/it]"
     ]
    },
    {
     "name": "stdout",
     "output_type": "stream",
     "text": [
      "Epoch: 15 | train_loss: 0.0808 | train_acc: 0.9780 | test_loss: 0.1327 | test_acc: 0.9535\n"
     ]
    },
    {
     "name": "stderr",
     "output_type": "stream",
     "text": [
      " 53%|█████▎    | 16/30 [1:04:35<56:21, 241.51s/it]  "
     ]
    },
    {
     "name": "stdout",
     "output_type": "stream",
     "text": [
      "Epoch: 16 | train_loss: 0.0763 | train_acc: 0.9813 | test_loss: 0.1238 | test_acc: 0.9627\n"
     ]
    },
    {
     "name": "stderr",
     "output_type": "stream",
     "text": [
      " 57%|█████▋    | 17/30 [1:08:34<52:11, 240.85s/it]"
     ]
    },
    {
     "name": "stdout",
     "output_type": "stream",
     "text": [
      "Epoch: 17 | train_loss: 0.0745 | train_acc: 0.9785 | test_loss: 0.1159 | test_acc: 0.9649\n"
     ]
    },
    {
     "name": "stderr",
     "output_type": "stream",
     "text": [
      " 60%|██████    | 18/30 [1:12:33<48:03, 240.28s/it]"
     ]
    },
    {
     "name": "stdout",
     "output_type": "stream",
     "text": [
      "Epoch: 18 | train_loss: 0.0708 | train_acc: 0.9820 | test_loss: 0.1128 | test_acc: 0.9642\n"
     ]
    },
    {
     "name": "stderr",
     "output_type": "stream",
     "text": [
      " 63%|██████▎   | 19/30 [1:16:36<44:13, 241.19s/it]"
     ]
    },
    {
     "name": "stdout",
     "output_type": "stream",
     "text": [
      "Epoch: 19 | train_loss: 0.0687 | train_acc: 0.9825 | test_loss: 0.1256 | test_acc: 0.9588\n"
     ]
    },
    {
     "name": "stderr",
     "output_type": "stream",
     "text": [
      " 67%|██████▋   | 20/30 [1:20:36<40:07, 240.73s/it]"
     ]
    },
    {
     "name": "stdout",
     "output_type": "stream",
     "text": [
      "Epoch: 20 | train_loss: 0.0644 | train_acc: 0.9852 | test_loss: 0.1114 | test_acc: 0.9611\n"
     ]
    },
    {
     "name": "stderr",
     "output_type": "stream",
     "text": [
      " 70%|███████   | 21/30 [1:24:35<36:03, 240.35s/it]"
     ]
    },
    {
     "name": "stdout",
     "output_type": "stream",
     "text": [
      "Epoch: 21 | train_loss: 0.0629 | train_acc: 0.9841 | test_loss: 0.1046 | test_acc: 0.9657\n"
     ]
    },
    {
     "name": "stderr",
     "output_type": "stream",
     "text": [
      " 73%|███████▎  | 22/30 [1:28:39<32:10, 241.28s/it]"
     ]
    },
    {
     "name": "stdout",
     "output_type": "stream",
     "text": [
      "Epoch: 22 | train_loss: 0.0623 | train_acc: 0.9848 | test_loss: 0.1048 | test_acc: 0.9688\n"
     ]
    },
    {
     "name": "stderr",
     "output_type": "stream",
     "text": [
      " 77%|███████▋  | 23/30 [1:32:31<27:50, 238.61s/it]"
     ]
    },
    {
     "name": "stdout",
     "output_type": "stream",
     "text": [
      "Epoch: 23 | train_loss: 0.0570 | train_acc: 0.9867 | test_loss: 0.1125 | test_acc: 0.9634\n"
     ]
    },
    {
     "name": "stderr",
     "output_type": "stream",
     "text": [
      " 80%|████████  | 24/30 [1:36:26<23:44, 237.41s/it]"
     ]
    },
    {
     "name": "stdout",
     "output_type": "stream",
     "text": [
      "Epoch: 24 | train_loss: 0.0560 | train_acc: 0.9878 | test_loss: 0.1063 | test_acc: 0.9642\n"
     ]
    },
    {
     "name": "stderr",
     "output_type": "stream",
     "text": [
      " 83%|████████▎ | 25/30 [1:40:26<19:51, 238.21s/it]"
     ]
    },
    {
     "name": "stdout",
     "output_type": "stream",
     "text": [
      "Epoch: 25 | train_loss: 0.0534 | train_acc: 0.9897 | test_loss: 0.1135 | test_acc: 0.9642\n"
     ]
    },
    {
     "name": "stderr",
     "output_type": "stream",
     "text": [
      " 87%|████████▋ | 26/30 [1:44:30<15:59, 239.99s/it]"
     ]
    },
    {
     "name": "stdout",
     "output_type": "stream",
     "text": [
      "Epoch: 26 | train_loss: 0.0519 | train_acc: 0.9895 | test_loss: 0.0955 | test_acc: 0.9703\n"
     ]
    },
    {
     "name": "stderr",
     "output_type": "stream",
     "text": [
      " 90%|█████████ | 27/30 [1:48:28<11:58, 239.52s/it]"
     ]
    },
    {
     "name": "stdout",
     "output_type": "stream",
     "text": [
      "Epoch: 27 | train_loss: 0.0505 | train_acc: 0.9892 | test_loss: 0.0908 | test_acc: 0.9695\n"
     ]
    },
    {
     "name": "stderr",
     "output_type": "stream",
     "text": [
      " 93%|█████████▎| 28/30 [1:52:22<07:55, 237.65s/it]"
     ]
    },
    {
     "name": "stdout",
     "output_type": "stream",
     "text": [
      "Epoch: 28 | train_loss: 0.0481 | train_acc: 0.9902 | test_loss: 0.0896 | test_acc: 0.9726\n"
     ]
    },
    {
     "name": "stderr",
     "output_type": "stream",
     "text": [
      " 97%|█████████▋| 29/30 [1:56:21<03:57, 238.00s/it]"
     ]
    },
    {
     "name": "stdout",
     "output_type": "stream",
     "text": [
      "Epoch: 29 | train_loss: 0.0471 | train_acc: 0.9907 | test_loss: 0.0878 | test_acc: 0.9771\n"
     ]
    },
    {
     "name": "stderr",
     "output_type": "stream",
     "text": [
      "100%|██████████| 30/30 [2:00:15<00:00, 240.53s/it]"
     ]
    },
    {
     "name": "stdout",
     "output_type": "stream",
     "text": [
      "Epoch: 30 | train_loss: 0.0452 | train_acc: 0.9907 | test_loss: 0.0912 | test_acc: 0.9726\n"
     ]
    },
    {
     "name": "stderr",
     "output_type": "stream",
     "text": [
      "\n"
     ]
    }
   ],
   "source": [
    "import engine\n",
    "import torch.optim as optim\n",
    "import torch.nn as nn\n",
    "\n",
    "# Function to create optimizer\n",
    "def create_optimizer(model, lr):\n",
    "    return optim.Adam(params=model.parameters(), lr=lr)\n",
    "\n",
    "# Function to create loss function\n",
    "def create_loss_fn():\n",
    "    return nn.CrossEntropyLoss()\n",
    "\n",
    "# Function to train model\n",
    "def train_model(model, train_dataloader, test_dataloader, optimizer, loss_fn, epochs, device):\n",
    "    set_seeds()\n",
    "    return engine.train(model=model,\n",
    "                        train_dataloader=train_dataloader,\n",
    "                        test_dataloader=test_dataloader,\n",
    "                        optimizer=optimizer,\n",
    "                        loss_fn=loss_fn,\n",
    "                        epochs=epochs,\n",
    "                        device=device)\n",
    "\n",
    "# Create optimizer and loss function\n",
    "optimizer = create_optimizer(pretrained_vit, 1e-3)\n",
    "loss_fn = create_loss_fn()\n",
    "\n",
    "# Train the model\n",
    "pretrained_vit_results = train_model(pretrained_vit, train_dataloader_pretrained, test_dataloader_pretrained, optimizer, loss_fn, 30, device)"
   ]
  },
  {
   "cell_type": "code",
   "execution_count": 12,
   "metadata": {},
   "outputs": [],
   "source": [
    "import pickle\n",
    "\n",
    "# Dump the model to a file\n",
    "with open('modelb16.pkl', 'wb') as f:\n",
    "    pickle.dump(pretrained_vit, f)\n",
    "    \n",
    "# Dump the test dataloader to a file\n",
    "with open('modelb16_test.pkl', 'wb') as f:\n",
    "    pickle.dump(test_dataloader_pretrained, f)\n",
    "\n",
    "# Dump the results to a file\n",
    "with open('modelb16_results.pkl', 'wb') as f:\n",
    "    pickle.dump(pretrained_vit_results, f)"
   ]
  },
  {
   "cell_type": "code",
   "execution_count": 29,
   "metadata": {},
   "outputs": [
    {
     "data": {
      "image/png": "[encoded data removed]",
      "text/plain": [
       "<Figure size 1200x600 with 2 Axes>"
      ]
     },
     "metadata": {},
     "output_type": "display_data"
    }
   ],
   "source": [
    "import matplotlib.pyplot as plt\n",
    "\n",
    "def plot_loss_curves(results):\n",
    "    # Extract values from results dictionary\n",
    "    train_loss = results['train_loss']\n",
    "    test_loss = results['test_loss']\n",
    "    train_acc = results['train_acc']\n",
    "    test_acc = results['test_acc']\n",
    "    \n",
    "    epochs = range(len(train_loss))\n",
    "    \n",
    "    # Plot loss\n",
    "    plt.figure(figsize=(12, 6))\n",
    "    plt.subplot(1, 2, 1)\n",
    "    plt.plot(epochs, train_loss, label='Train Loss')\n",
    "    plt.plot(epochs, test_loss, label='Test Loss')\n",
    "    plt.title('Loss')\n",
    "    plt.xlabel('Epochs')\n",
    "    plt.ylabel('Loss')\n",
    "    plt.legend()\n",
    "    \n",
    "    # Plot accuracy\n",
    "    plt.subplot(1, 2, 2)\n",
    "    plt.plot(epochs, train_acc, label='Train Accuracy')\n",
    "    plt.plot(epochs, test_acc, label='Test Accuracy')\n",
    "    plt.title('Accuracy')\n",
    "    plt.xlabel('Epochs')\n",
    "    plt.ylabel('Accuracy')\n",
    "    plt.legend()\n",
    "    \n",
    "    plt.show()\n",
    "\n",
    "# Call the function to plot the curves\n",
    "plot_loss_curves(pretrained_vit_results)\n"
   ]
  },
  {
   "cell_type": "code",
   "execution_count": 30,
   "metadata": {},
   "outputs": [
    {
     "name": "stdout",
     "output_type": "stream",
     "text": [
      "              precision    recall  f1-score   support\n",
      "\n",
      "      glioma       0.98      0.92      0.95       300\n",
      "  meningioma       0.93      0.97      0.95       306\n",
      "     notumor       1.00      1.00      1.00       405\n",
      "   pituitary       0.99      0.99      0.99       300\n",
      "\n",
      "    accuracy                           0.97      1311\n",
      "   macro avg       0.97      0.97      0.97      1311\n",
      "weighted avg       0.97      0.97      0.97      1311\n",
      "\n"
     ]
    },
    {
     "data": {
      "image/png": "[encoded data removed]",
      "text/plain": [
       "<Figure size 1000x1000 with 2 Axes>"
      ]
     },
     "metadata": {},
     "output_type": "display_data"
    }
   ],
   "source": [
    "from sklearn.metrics import classification_report\n",
    "import numpy as np\n",
    "from sklearn.metrics import confusion_matrix\n",
    "import matplotlib.pyplot as plt\n",
    "import itertools\n",
    "\n",
    "test_dir = \"/home/usd.local/sonyreddy.gurram/rizk_lab/shared/neeraj_dattu/dataset/Testing\"\n",
    "\n",
    "\n",
    "def evaluate_model(model, dataloader, device):\n",
    "    model.eval()  # Set the model to evaluation mode\n",
    "    true_labels = []\n",
    "    pred_labels = []\n",
    "\n",
    "    with torch.no_grad():  # Disable gradient calculation\n",
    "        for inputs, labels in dataloader:\n",
    "            inputs = inputs.to(device)\n",
    "            labels = labels.to(device)\n",
    "\n",
    "            outputs = model(inputs)\n",
    "            _, preds = torch.max(outputs, 1)\n",
    "\n",
    "            true_labels.extend(labels.cpu().numpy())\n",
    "            pred_labels.extend(preds.cpu().numpy())\n",
    "\n",
    "    return true_labels, pred_labels\n",
    "\n",
    "# Get true and predicted labels\n",
    "true_labels, pred_labels = evaluate_model(pretrained_vit, test_dataloader_pretrained, device)\n",
    "\n",
    "# Print classification report\n",
    "print(classification_report(true_labels, pred_labels, target_names=class_names))\n",
    "\n",
    "# Compute confusion matrix\n",
    "cm = confusion_matrix(true_labels, pred_labels)\n",
    "\n",
    "# Plot confusion matrix as a color grid\n",
    "plt.figure(figsize=(10,10))\n",
    "plt.imshow(cm, interpolation='nearest', cmap=plt.cm.Blues)\n",
    "plt.title('Confusion matrix')\n",
    "plt.colorbar()\n",
    "\n",
    "# Add labels to the plot\n",
    "tick_marks = np.arange(len(class_names))\n",
    "plt.xticks(tick_marks, class_names, rotation=45)\n",
    "plt.yticks(tick_marks, class_names)\n",
    "\n",
    "# Add numbers to the grid\n",
    "thresh = cm.max() / 2.\n",
    "for i, j in itertools.product(range(cm.shape[0]), range(cm.shape[1])):\n",
    "    plt.text(j, i, cm[i, j],\n",
    "             horizontalalignment=\"center\",\n",
    "             color=\"white\" if cm[i, j] > thresh else \"black\")\n",
    "\n",
    "plt.tight_layout()\n",
    "plt.ylabel('True label')\n",
    "plt.xlabel('Predicted label')\n",
    "plt.show()"
   ]
  }
 ],
 "metadata": {
  "kernelspec": {
   "display_name": "pytorch",
   "language": "python",
   "name": "python3"
  },
  "language_info": {
   "codemirror_mode": {
    "name": "ipython",
    "version": 3
   },
   "file_extension": ".py",
   "mimetype": "text/x-python",
   "name": "python",
   "nbconvert_exporter": "python",
   "pygments_lexer": "ipython3",
   "version": "3.12.3"
  }
 },
 "nbformat": 4,
 "nbformat_minor": 2
}
